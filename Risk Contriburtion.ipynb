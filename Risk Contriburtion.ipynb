import numpy as np
import pandas as pd
import matplotlib.pyplot as plt
from scipy.stats import norm
import ipywidgets as widgets
from IPython.display import display
from matplotlib.widgets import Slider
import matplotlib.ticker as mticker
from pypalettes import load_cmap
import warnings
warnings.filterwarnings('ignore')


