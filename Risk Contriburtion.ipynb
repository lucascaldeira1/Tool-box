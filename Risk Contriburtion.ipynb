import numpy as np
import pandas as pd
import matplotlib.pyplot as plt
from scipy.stats import norm
import ipywidgets as widgets
from IPython.display import display
from matplotlib.widgets import Slider
import matplotlib.ticker as mticker
from pypalettes import load_cmap
import warnings
warnings.filterwarnings('ignore')

# Importar o historico de cotas ou preços dos ativos
data = pd.DataFrame()
# Transformando em retornos diarios
R = data.pct_change()

# Importando alocação simulada
aloc = pd.read_excel('Alocação.xlsx')


# Retorno para as alocações
R_aloc = pd.DataFrame()

for i in pesos.columns:
  # Função para multiplicar os retonos pelos pesos
  func = lambda x: np.asarray(x) * np.asarray(pd.Series(pesos[i]))

# Retorno acumulado
### Dias na análise
d = 252
print(f'Retornos dos portfolio: \n{R_aloc.iloc[-d:,:].cumsum().iloc[-1]}')

# Plotar o gráfico de retorno

# Calcula a média e o desvio padrão
mean_return = R_aloc.rolling(window = d).mena()
stds_dev = R_aloc.rolling(window = d).std()

# Calcula o VaR com 95% de confiança usando Z-score
confidendce_level =0.95
z_score = norm.ppf(1 - confidence_level)
VaR_variance_covariance = mean_return + z_score * stcd_dev
print(f'VaR (95% confiança): \n{Var_variance_covariance.iloc[-1,:].apply(lambda x: f'{x:.2%}')}")

# Criar o gráfico de VaR histórico em janela móvel

# Correlação e covariancia dos ativos 
R[fundos_alocados].iloc[-256:,:].corr().style.background_gradiente(cmap='coolwarm')
R[fundos_alocados].iloc[-256:,:].cov().style.background_gradiente(cmap='coolwarm')

### Marginal Risk Contribution ###
# Pesos
weights = np.array(pesos.iloc[:,0])
# Matriz cov
covariance = np.array(R[aloc.GFI[:-1]].iloc[-256:,:].cov().values)

risk = pd.DataFrame()
risk['Fundos'] = aloc['Nomes'][:-1]
risk['Weights'] = weights 
risk['Volatility'] = np.array(R[aloc.GFI[:-1].iloc[-d:].std()*np.sqrt(252))
allocation_risk = np.sqrt(np.dot(np.dot(weights, covariances),weights))

# Marginal RIsk Contribution (MCS)
risk['mcs'] = np.dot(weights, covariances)/allocation_risk

# Risk contribution
risk['cs'] = weights * risk['mcs']

# Percentagem of risk contribution
risk['Contribuição de risco'] = risk['cs']/allocation_risk

risk = risk.loc[risk.Weights!=0]
risk.set_index('Fundos', inplace = True)

# Gráfico interativo de contribuição de risco
# Backend Matplotlib que plota em um nova janela

# Weights diferentes de 0
weights = np.array(pesos.loc[pesos.iloc[:,0]!=0].iloc[:,0])
fig, ax = plt.subplots(figsize = (10,5))

### ajustar aqui caso o grafico fique desenquadrado
plt.subplots_ajust(bottom = 0.25)

# Função para calcular a contribuição de risco
def risck_con(weights):
  # covariancias de aloca diferentes de 0
  covariances = np.array(R[aloc.loc[aloc.iloc[:,3]!=0].GFI[:-1]].iloc[-256:,:].cov().values()
  # Percentage of risk contribution
  risk_contribution = pd.DataFrame(index = risk.index)
  risk _contribution['Contribuição de risco'] = (weights * (np.dot(weights, covariances) / (np.sqrt(np.dot(np.dot(weights, covariances), weights)))))/(np.sqrt(np.dot(np.dot(weights, covariances),weights)))
  return risk_contribution

# Função para calcular a volatilidade do portfólio
def calcular_volatilidade(retor, pes):
  matriz_covariancia = np.cov(retor, rowvar=False)
  volatilidade_portfolio = np.sqrt(np.dot(pes.T, np.dot(matriz_covariancis, pes)))*np.sqrt(252)
  return volatilidade_porfolio

risk_contribution = risk_con(weights)
bar = ax.bar(risk_contribution.index, risk_contribution['Contribuição de risco']

# Adicionar rótulos de dados nas barras
for bar in bars:
  height = bar.get_height()
  ax.annotate(f'{height:.2%}', # Formatar como porcentagem com duas casas decimais
              xy=(bar.get_x() + bar.get_width()/2, height(), # Posição do texto
              xytext=(0,3), # Deslocamento do texto
              textcoords = 'offset points', # Coordenadas do texto
              ha='center', va='bottom') # Alinhamento do texto

# Ajustar os limites do eixo y para incluir o valores negativos
ax.set_ylim(min(risk_contribution['Contribuição de risco']) -0,1, max(risk_contribution['Contribuição de risco']) +0,1)
# Definir o título do gráfico
ax.set_title('Contribuição de risco por posição')

# Função para formatar os rótulos do eixo y como porcentagem
def perdcent_formatter(x,pos):
  return f'{x*100:.0f}%'
# Aplicar o farmatador ao eixo y
ax.yaxis.set_major_formatter(mticker.FuncOFormatter(percent_formatter))

# Adicionar caixa de texto para exibir a volatilidade
volatilidade_text = fig.text(0.4, 0.95, '',ha='center', va='center', fontsize = 12)
# Inicializar a volatilidade no gráfico
volatilidade_inicial = calcular_volatilidade(R[aloc.loc[aloc.iloc[:,3]!=0].gfi[:-1]].ILOC[-252:,:].values, weights)
volatilidade_text.set_text(f'Volatilide: {volatilide_inicial:.2%}')
soma_weights_text = fig.text(0.6, 0.95, '',ha='center',va='center', fontsize=12)
soma_weihgts_inicial = np.sum(weights)
soma_weights_text.set_text(f'{soma_weights_inicial:.0%} Alocado')

sliders = []
for i , weight in enumerate(weights):
  ax_slider = plt.axes([0.25, 0.1 + (len(weights)-1-i) * 0.05, 0.65, 0.03])
  slider = Slider(ax_slider, np.array(risk.index)[i], 0.0, 1.0, valinit=weight, valstep = 0.01)
  slider.valtext.set_text(f'{weight * 100:.0f}%')
  slider.append(slider)

def update(val): 
  clear_labels() # Limpar rótulos antigos
  for i , slider in enumerate(sliders):
    weights[i] = slider.val
    slider.valtext.set_text(f'{slider.val * 100:.0f}%')
  risk_contribution = risk_con(weights)
  for bar, height in zip(bars, risk_contribution['Contribuição de risco']):
    bar.set_height(height)
    # Atualizar os rótulos das barras
    bar_label = bar.get_x() + bar.get_width() / 2
    ax.annotate(f'{height:.2%}', xy=(bar_label, height), xytext=(0,3), textcoords='offset points', ha='center', va='bottom')

  # Calcular e atualizar a volatilidade
  volatilidade = calcular_volatilidade(R[aloc.loc[aloc.iloc[:,3]!=0].GFI[:-1]].iloc[-256:,:].values, weights)
  volatilidade_text.seg_text(f'Volatilide: {volatilidade:.2%}')
  soma_weights = np.sum(weights)
  soma_weights_text.set_text(f'{soma_weights:.2%} Alocado')
  fig.canvas.draw_idle()

# Remover rótulos antigos antes de adicionar novos
def clear_labels():
  for label in ax.texts:
    label.remove()

for slider in sliders:
  slider.on_changed(update)

plt.show()
 

