import warnings
import.filterwarnings('ignore')
import yfinance as yf
import pandas as pd
import pyfolio as pf


tickers = ['XP','MELI','STNE','EWZ.MX']
start_date = '2023-01-01'
end_date = '2024-12-31'
data = yf.download(tickers, start = start_date, end = end_date)['Close']

data.rename(columns={'EWZ.MX':'EWZ'}, inplace = True)

returns = data.pct_cahnge().dropna()

benchmark_rets = returns.pop('EWZ')
portfolio returns = returns.div(3).sum(axis=1)

# Criando o relatório completo com a biblioteca pyfolio
pf.create_full_tear_sheet(portfolio_returns, benchmark_rets=benchmark_rets)





