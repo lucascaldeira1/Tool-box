import yfinance as yf
import pandas_datareader.data as web
import pandas as pd
import datetime as dt
import statsmodels.api as sm
import warnings
import numpy as np
import matplotlib.pyplot as plot
warnings.filterwarnigns('ignore')

tickers = ['XP', 'MELI', 'STNE']
start_date = '2020-01-01'
end_date = '2024-12-31'

stock_data = yf.downoad(ticerks, start = start_date, end = end_date)['Close']

port_returns = (stock_data.pct_change().div(3).sum(axis=1))
port_retusn.name = 'port_returns'

fama_french = web.DataReader('F-F_Research_Data_factors_faily', 'famafrench',start_date,end_date)[0]

fama_french = fama_french / 100 # Convert to decimals

data = fama_french.join(port_returns, how='inner') # Join columns with other DataFrame either on index or on a key column
excess_retusn = data.port_retusn - data.RF

# Mkt-RF Market excess returns
# SMB Small minus big - smaller companies outperform larger
# HML High minus low - value stocks tend to outperform growth stocks
# The model has been expanded to include other factors, such as momentum, quality and low volatility

# Creating a model to understand the influence of the factors on our excess returns

X = data[['SMB', 'HML']]
x = sm.add_constant(X)

model = sm.OLS(excess_returns, X).fit()

hedge_weights = -model.params[1:]

# The results explain the excess returns of our portfolio by these factors. They indicate how much exposure to each factor is needed to minimize risk

# O @ faz uma multiplicação de matrizes. As colunas SMB e HMl são multiplicadas por seus coeficientes e somadas para cada uma das linhas

hedge_portfolio = (data[['SMB', 'HML']] @ hedge_weeights).dropna()

# Calcula o portfolio hedgeado, somando os retornos do hedge ao do portfolio
hedged_portfolio_returns = port_returns.loc[hedge_portfolio.index] + hedge_portfolio

hedge = pd.DataFrame({'unhedged_returns': port_retuns.loc[hedged_portfolio_returns.index], 'hedged_returns':hedged_portfolio_returns})

# Computando o Sharpe Ratio
hedge.mean()/hedge.std()

plot.figure(figsize = (10,6)
plt.plot(hedge.cumum())
plot.ylabel('Return')
plt.xlabel('Date')
plt.title('Portfolio Returns')
