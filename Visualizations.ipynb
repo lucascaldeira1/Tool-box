import matplotlib.pyplot as plt
import yfinance as yf

start = '2020-01-01'
end = '2024-12-31'
data = yf.download(['AMZN','MELI'], start=start, end=end)['Close']
data

plt.figure(figsize=(10,6))
plt.hist(data.MELI, bins=30)
plt.xlabel("Price")
plt.ylabel("Nunber os Days Observed")
plt.title("Frequency Distribution of MSTR Prices")

R = data.MELI.pct_change()[1:]
plt.figure(figsize=(10,6))
plt.hist(R, bins=30)
plt.xlabel('Return')
plt.ylabel('Number of Days Observed')
plt.title('Frequency Distribution of MELI Returns')

# This code generates a cumulative distribution plot for Mercado Libre's daily returns. By setting the cumulative parameter to True,
# the histogram shows the cumulative frequency of returns, essentially the probability that a ramdonly chosen return is less than or equal to a
# especific value

plt.figure(figsize=(10,6))
plt.hist(R, bins=30, cumulative=True)
plt.xlabel('Return')
plt.ylabel('Number of Days Observed')
plt.title('Cumulative Distribution of MELI Returns')

R = data.pct_change([1:]
plt.figure(figsize=(10,6))
plt.scatter(R.AMZN, R.MELI, s=1)
plt.title('Daily Returns')

