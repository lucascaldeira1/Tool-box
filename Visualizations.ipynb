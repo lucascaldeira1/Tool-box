import matplotlib.pyplot as plt
import yfinance as yf

start = '2020-01-01'
end = '2024-12-31'
data = yf.download(['AMZN','MELI'], start=start, end=end)['Close']
data

plt
